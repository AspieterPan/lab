{
 "cells": [
  {
   "cell_type": "code",
   "execution_count": 1,
   "metadata": {},
   "outputs": [],
   "source": [
    "from sympy.matrices import Matrix, eye, zeros, ones, diag, GramSchmidt\n",
    "from random import randint"
   ]
  },
  {
   "cell_type": "code",
   "execution_count": 22,
   "metadata": {},
   "outputs": [
    {
     "name": "stdout",
     "output_type": "stream",
     "text": [
      "Matrix([[1, 0, -1], [0, 2, 0], [-1, 0, 1]])\n",
      "Matrix([[0, 2, 0], [2, 0, -2], [0, -2, 0]])\n",
      "Matrix([[2, 0, -2], [0, 4, 0], [-2, 0, 2]])\n",
      "Matrix([[0, 4, 0], [4, 0, -4], [0, -4, 0]])\n",
      "Matrix([[4, 0, -4], [0, 8, 0], [-4, 0, 4]])\n",
      "Matrix([[0, 8, 0], [8, 0, -8], [0, -8, 0]])\n",
      "Matrix([[8, 0, -8], [0, 16, 0], [-8, 0, 8]])\n",
      "Matrix([[0, 16, 0], [16, 0, -16], [0, -16, 0]])\n",
      "Matrix([[16, 0, -16], [0, 32, 0], [-16, 0, 16]])\n",
      "Matrix([[0, 32, 0], [32, 0, -32], [0, -32, 0]])\n"
     ]
    }
   ],
   "source": [
    "mat = Matrix(3,3,[0,1,0,1,0,-1,0,-1,0])\n",
    "mat_2 = mat.copy()\n",
    "for i in range(10):\n",
    "    mat_2 *= mat\n",
    "    print(mat_2)\n"
   ]
  },
  {
   "cell_type": "code",
   "execution_count": null,
   "metadata": {},
   "outputs": [],
   "source": []
  }
 ],
 "metadata": {
  "kernelspec": {
   "display_name": "Python 3",
   "language": "python",
   "name": "python3"
  },
  "language_info": {
   "codemirror_mode": {
    "name": "ipython",
    "version": 3
   },
   "file_extension": ".py",
   "mimetype": "text/x-python",
   "name": "python",
   "nbconvert_exporter": "python",
   "pygments_lexer": "ipython3",
   "version": "3.11.3"
  },
  "orig_nbformat": 4
 },
 "nbformat": 4,
 "nbformat_minor": 2
}
